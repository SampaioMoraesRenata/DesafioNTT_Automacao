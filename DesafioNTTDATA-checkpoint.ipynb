{
 "cells": [
  {
   "cell_type": "code",
   "execution_count": 1,
   "id": "31b3cb81",
   "metadata": {},
   "outputs": [],
   "source": [
    "# Criar uma automação para entrar em um site \n",
    "\n",
    "#Passo 1: Entrar em https://cbcstore.com.br/\n",
    "#Passo 2: Selecionar maioridade de 18 anos\n",
    "#Passo 3: Fechar informações importantes\n",
    "#Passo 4: Acessar a tela de cadastro\n",
    "#Passo 5: Escolher Segmento Categoria \n",
    "#Passo 6: Exibir lista de seleção\n",
    "#Passo 7: Selecionar Pessoa Física\n",
    "#Passo 8: Escolher uma categoria\n",
    "#Passo 9: Exibir lista de seleção\n",
    "#Passo 10: Selecionar Consumidor\n",
    "#Passo 11: Preencher todos os campos obrigatórios (nome, cpf, data de nascimento, celular, estado, e-mail, confirmar e-mail, senha, confirmar senha)\n",
    "#Passo 12: Clicar no botão para realizar o cadastro"
   ]
  },
  {
   "cell_type": "code",
   "execution_count": 2,
   "id": "2aa24113",
   "metadata": {},
   "outputs": [],
   "source": [
    "from selenium import webdriver\n",
    "from webdriver_manager.chrome import ChromeDriverManager\n",
    "from selenium.webdriver.chrome.service import Service\n",
    "import time\n",
    "\n",
    "servico = Service(ChromeDriverManager().install())\n",
    "\n",
    "navegador = webdriver.Chrome(service=servico)\n",
    "\n",
    "\n",
    "\n",
    "\n",
    "#Passo 1:\n",
    "navegador.get(\"https://cbcstore.com.br/\")\n",
    "\n",
    "navegador.maximize_window()"
   ]
  },
  {
   "cell_type": "code",
   "execution_count": 3,
   "id": "3914e11c",
   "metadata": {},
   "outputs": [],
   "source": [
    "#Passo 2:\n",
    "navegador.find_element('xpath', '/html/body/div[1]/main/div/main/section[2]/div/div/div/div[3]/button[1]').click()"
   ]
  },
  {
   "cell_type": "code",
   "execution_count": 4,
   "id": "00bee186",
   "metadata": {},
   "outputs": [],
   "source": [
    "#Passo 3:\n",
    "navegador.find_element('xpath', '//*[@id=\"cboxClose\"]').click()"
   ]
  },
  {
   "cell_type": "code",
   "execution_count": 5,
   "id": "89df63de",
   "metadata": {},
   "outputs": [],
   "source": [
    "#Passo 4:\n",
    "navegador.find_element('xpath', '/html/body/main/header/nav[1]/div[2]/div[2]/li/a').click()"
   ]
  },
  {
   "cell_type": "code",
   "execution_count": 6,
   "id": "dd31d96f",
   "metadata": {},
   "outputs": [],
   "source": [
    "#Passo 5: \n",
    "navegador.find_element('xpath', '/html/body').click()"
   ]
  },
  {
   "cell_type": "code",
   "execution_count": 7,
   "id": "8bdb190b",
   "metadata": {},
   "outputs": [],
   "source": [
    "#Passo 6:\n",
    "navegador.find_element('xpath', '//*[@id=\"segmentCategory\"]').click()"
   ]
  },
  {
   "cell_type": "code",
   "execution_count": 8,
   "id": "266539b2",
   "metadata": {},
   "outputs": [],
   "source": [
    "time.sleep(1)\n",
    "\n",
    "#Passo 7:\n",
    "navegador.find_element('xpath', '//*[@id=\"segmentCategory\"]/option[3]').click()"
   ]
  },
  {
   "cell_type": "code",
   "execution_count": 9,
   "id": "21153de8",
   "metadata": {},
   "outputs": [],
   "source": [
    "time.sleep(1)\n",
    "\n",
    "#Passo 8:\n",
    "navegador.find_element('xpath', '//*[@id=\"categories\"]').click()"
   ]
  },
  {
   "cell_type": "code",
   "execution_count": 10,
   "id": "1f204c61",
   "metadata": {},
   "outputs": [],
   "source": [
    "time.sleep(1)\n",
    "\n",
    "#Passo 9:\n",
    "navegador.find_element('xpath', '//*[@id=\"categories\"]/option[2]').click()"
   ]
  },
  {
   "cell_type": "code",
   "execution_count": 11,
   "id": "90aeede6",
   "metadata": {},
   "outputs": [],
   "source": [
    "time.sleep(1)\n",
    "\n",
    "#Passo 10:\n",
    "navegador.find_element('xpath', '//*[@id=\"firstName\"]').send_keys(\"ROBSON WILSON CORDEIRO LOPES\")\n",
    "\n",
    "time.sleep(2)\n",
    "\n",
    "navegador.find_element('xpath', '//*[@id=\"cpf\"]').send_keys(\"018.126.407-81\")\n",
    "\n",
    "time.sleep(2)\n",
    "\n",
    "navegador.find_element('xpath', '//*[@id=\"birthday\"]').send_keys(\"28/05/1973\")\n",
    "\n",
    "time.sleep(2)\n",
    "\n",
    "navegador.find_element('xpath', '//*[@id=\"cellphone\"]').send_keys(\"(21) 9840-08870\")\n",
    "\n",
    "time.sleep(2)\n",
    "\n",
    "navegador.find_element('xpath', '//*[@id=\"state\"]').click()\n",
    "\n",
    "navegador.find_element('xpath', '//*[@id=\"state\"]/option[22]').click()\n",
    "\n",
    "navegador.find_element('xpath', '/html/body/main/div[3]/div/div[2]/div/div/div/form/section/div[2]/section[1]/div[4]/div[1]/input').send_keys(\"robsonlopes033@gmail.com\")\n",
    "\n",
    "time.sleep(2)\n",
    "\n",
    "navegador.find_element('xpath', '//*[@id=\"checkEmail\"]').send_keys(\"robsonlopes033@gmail.com\")\n",
    "\n",
    "time.sleep(2)\n",
    "\n",
    "navegador.find_element('xpath', '//*[@id=\"pwd\"]').send_keys(\"Suce$$o11\")\n",
    "\n",
    "time.sleep(2)\n",
    "\n",
    "navegador.find_element('xpath', '//*[@id=\"checkPwd\"]').send_keys(\"Suce$$o11\")"
   ]
  },
  {
   "cell_type": "code",
   "execution_count": 12,
   "id": "8153b125",
   "metadata": {},
   "outputs": [],
   "source": [
    "time.sleep(2)\n",
    "\n",
    "#Passo 11:\n",
    "navegador.find_element('xpath', '//*[@id=\"js-send-register\"]').click()"
   ]
  }
 ],
 "metadata": {
  "kernelspec": {
   "display_name": "Python 3 (ipykernel)",
   "language": "python",
   "name": "python3"
  },
  "language_info": {
   "codemirror_mode": {
    "name": "ipython",
    "version": 3
   },
   "file_extension": ".py",
   "mimetype": "text/x-python",
   "name": "python",
   "nbconvert_exporter": "python",
   "pygments_lexer": "ipython3",
   "version": "3.10.9"
  }
 },
 "nbformat": 4,
 "nbformat_minor": 5
}
